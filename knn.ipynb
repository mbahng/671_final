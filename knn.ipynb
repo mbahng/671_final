{
 "cells": [
  {
   "cell_type": "code",
   "execution_count": 1,
   "id": "aa5e1b26",
   "metadata": {
    "tags": []
   },
   "outputs": [],
   "source": [
    "import os\n",
    "import re\n",
    "import ast\n",
    "import numpy as np\n",
    "import pandas as pd\n",
    "from sklearn.model_selection import train_test_split\n",
    "from sklearn.neighbors import KNeighborsClassifier\n",
    "from sklearn.metrics import classification_report\n",
    "from sklearn.model_selection import GridSearchCV\n",
    "from sklearn.preprocessing import MinMaxScaler, StandardScaler\n",
    "from nltk.tokenize import RegexpTokenizer\n",
    "from preprocess import preprocess \n",
    "import matplotlib.pyplot as plt\n",
    "\n",
    "train_data = pd.read_csv(os.path.join(\"data\", \"train.csv\"))\n",
    "test_data = pd.read_csv(os.path.join(\"data\", \"test.csv\"))\n",
    "train_data.dropna(inplace=True)\n",
    "X, y = train_data.drop([\"price\"], axis=1), train_data[\"price\"]\n",
    "y = y.to_numpy().astype(int)\n",
    "\n",
    "X_train, X_val, y_train, y_val = train_test_split(X, y, test_size=0.20, random_state=42)\n",
    "X_test = test_data\n",
    "\n",
    "X_train = preprocess(X_train)"
   ]
  },
  {
   "cell_type": "code",
   "execution_count": 2,
   "id": "3a826500-9516-44b3-8b2b-f7ce22159e33",
   "metadata": {
    "tags": []
   },
   "outputs": [],
   "source": [
    "X_train = preprocess(X_train).to_numpy().astype(float)\n",
    "X_val = preprocess(X_val).to_numpy().astype(float)\n",
    "\n",
    "# scale\n",
    "scaler = StandardScaler()\n",
    "scaler.fit(X_train)\n",
    "X_train = scaler.transform(X_train)\n",
    "X_val = scaler.transform(X_val)"
   ]
  },
  {
   "cell_type": "code",
   "execution_count": 5,
   "metadata": {},
   "outputs": [
    {
     "ename": "IndexError",
     "evalue": "only integers, slices (`:`), ellipsis (`...`), numpy.newaxis (`None`) and integer or boolean arrays are valid indices",
     "output_type": "error",
     "traceback": [
      "\u001b[0;31m---------------------------------------------------------------------------\u001b[0m",
      "\u001b[0;31mIndexError\u001b[0m                                Traceback (most recent call last)",
      "\u001b[1;32m/home/muchang/Desktop/other/671_final/knn.ipynb Cell 3\u001b[0m line \u001b[0;36m1\n\u001b[0;32m----> <a href='vscode-notebook-cell://ssh-remote%2Bi3t/home/muchang/Desktop/other/671_final/knn.ipynb#W5sdnNjb2RlLXJlbW90ZQ%3D%3D?line=0'>1</a>\u001b[0m preprocess(X_train)\n",
      "File \u001b[0;32m~/Desktop/other/671_final/preprocess.py:39\u001b[0m, in \u001b[0;36mpreprocess\u001b[0;34m(df)\u001b[0m\n\u001b[1;32m     36\u001b[0m \u001b[39mdef\u001b[39;00m \u001b[39mpreprocess\u001b[39m(df:pd\u001b[39m.\u001b[39mDataFrame): \n\u001b[0;32m---> 39\u001b[0m     df[\u001b[39m'\u001b[39m\u001b[39mhost_since\u001b[39m\u001b[39m'\u001b[39m] \u001b[39m=\u001b[39m pd\u001b[39m.\u001b[39mto_datetime(df[\u001b[39m'\u001b[39;49m\u001b[39mhost_since\u001b[39;49m\u001b[39m'\u001b[39;49m])\n\u001b[1;32m     40\u001b[0m     df[\u001b[39m\"\u001b[39m\u001b[39mlast_scraped\u001b[39m\u001b[39m\"\u001b[39m] \u001b[39m=\u001b[39m pd\u001b[39m.\u001b[39mto_datetime(df[\u001b[39m'\u001b[39m\u001b[39mlast_scraped\u001b[39m\u001b[39m'\u001b[39m])\n\u001b[1;32m     42\u001b[0m     df[\u001b[39m\"\u001b[39m\u001b[39mnum_days_hosted\u001b[39m\u001b[39m\"\u001b[39m] \u001b[39m=\u001b[39m (df[\u001b[39m\"\u001b[39m\u001b[39mlast_scraped\u001b[39m\u001b[39m\"\u001b[39m] \u001b[39m-\u001b[39m df[\u001b[39m'\u001b[39m\u001b[39mhost_since\u001b[39m\u001b[39m'\u001b[39m])\u001b[39m.\u001b[39mdt\u001b[39m.\u001b[39mdays\n",
      "\u001b[0;31mIndexError\u001b[0m: only integers, slices (`:`), ellipsis (`...`), numpy.newaxis (`None`) and integer or boolean arrays are valid indices"
     ]
    }
   ],
   "source": [
    "preprocess(X_train)"
   ]
  },
  {
   "cell_type": "code",
   "execution_count": 3,
   "id": "bfdfce0a-dca2-4775-a804-765a30a1ae28",
   "metadata": {
    "tags": []
   },
   "outputs": [
    {
     "name": "stdout",
     "output_type": "stream",
     "text": [
      "Best K neighbors: 9\n"
     ]
    }
   ],
   "source": [
    "knn = KNeighborsClassifier()\n",
    "\n",
    "n_neighbors = list(range(1,10))\n",
    "hyperparameters = dict(n_neighbors=n_neighbors)\n",
    "clf = GridSearchCV(knn, hyperparameters, cv=5)\n",
    "\n",
    "best_knn = clf.fit(X_train,y_train)\n",
    "\n",
    "print('Best K neighbors:', best_knn.best_estimator_.get_params()['n_neighbors'])"
   ]
  },
  {
   "cell_type": "code",
   "execution_count": 4,
   "id": "6bbff67b-909b-4f67-a00a-f0239417342b",
   "metadata": {
    "tags": []
   },
   "outputs": [
    {
     "name": "stdout",
     "output_type": "stream",
     "text": [
      "              precision    recall  f1-score   support\n",
      "\n",
      "           0       0.64      0.78      0.71       804\n",
      "           1       0.34      0.38      0.36       557\n",
      "           2       0.31      0.26      0.28       514\n",
      "           3       0.37      0.36      0.37       514\n",
      "           4       0.35      0.27      0.31       314\n",
      "           5       0.71      0.47      0.57       232\n",
      "\n",
      "    accuracy                           0.46      2935\n",
      "   macro avg       0.45      0.42      0.43      2935\n",
      "weighted avg       0.45      0.46      0.45      2935\n",
      "\n"
     ]
    }
   ],
   "source": [
    "y_pred = best_knn.predict(X_val)\n",
    "print(classification_report(y_val, y_pred))"
   ]
  },
  {
   "cell_type": "code",
   "execution_count": 11,
   "metadata": {},
   "outputs": [],
   "source": [
    "X_test = pd.read_csv(os.path.join(\"data\", \"test.csv\"))\n",
    "X_test = scaler.transform(preprocess(X_test))\n",
    "test_predictions = best_knn.predict(X_test)\n",
    "\n",
    "submission = {\n",
    "    \"id\" : list(range(len(test_predictions))), \n",
    "    \"price\" : list(test_predictions.astype(float))\n",
    "}\n",
    "\n",
    "submission = pd.DataFrame.from_dict(submission)\n",
    "\n",
    "submission.to_csv(\"bahng_2.csv\", index=False)"
   ]
  }
 ],
 "metadata": {
  "kernelspec": {
   "display_name": "Python 3 (ipykernel)",
   "language": "python",
   "name": "python3"
  },
  "language_info": {
   "codemirror_mode": {
    "name": "ipython",
    "version": 3
   },
   "file_extension": ".py",
   "mimetype": "text/x-python",
   "name": "python",
   "nbconvert_exporter": "python",
   "pygments_lexer": "ipython3",
   "version": "3.8.5"
  }
 },
 "nbformat": 4,
 "nbformat_minor": 5
}
