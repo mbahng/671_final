{
 "cells": [
  {
   "cell_type": "code",
   "execution_count": 2,
   "id": "aa5e1b26",
   "metadata": {
    "tags": []
   },
   "outputs": [],
   "source": [
    "import os\n",
    "import re\n",
    "import ast\n",
    "import numpy as np\n",
    "import pandas as pd\n",
    "from sklearn.model_selection import train_test_split\n",
    "from sklearn.neighbors import KNeighborsClassifier\n",
    "from sklearn.metrics import classification_report\n",
    "from sklearn.model_selection import GridSearchCV\n",
    "from sklearn.preprocessing import MinMaxScaler, StandardScaler, RobustScaler\n",
    "from nltk.tokenize import RegexpTokenizer\n",
    "from preprocess import preprocess\n",
    "import matplotlib.pyplot as plt\n",
    "\n",
    "train_data = pd.read_csv(os.path.join(\"data\", \"train.csv\"))\n",
    "test_data = pd.read_csv(os.path.join(\"data\", \"test.csv\"))\n",
    "train_data.dropna(inplace=True)\n",
    "X, y = train_data.drop([\"price\"], axis=1), train_data[\"price\"]\n",
    "y = y.to_numpy().astype(int)\n",
    "\n",
    "X_train, X_val, y_train, y_val = train_test_split(X, y, test_size=0.20, random_state=42)\n",
    "X_test = test_data\n"
   ]
  },
  {
   "cell_type": "code",
   "execution_count": 3,
   "id": "3a826500-9516-44b3-8b2b-f7ce22159e33",
   "metadata": {
    "tags": []
   },
   "outputs": [],
   "source": [
    "X_train = preprocess(X_train).to_numpy().astype(float)\n",
    "X_val = preprocess(X_val).to_numpy().astype(float)\n",
    "\n",
    "# scale\n",
    "scaler =  RobustScaler()\n",
    "scaler.fit(X_train)\n",
    "X_train = scaler.transform(X_train)\n",
    "X_val = scaler.transform(X_val)"
   ]
  },
  {
   "cell_type": "code",
   "execution_count": 4,
   "id": "cea5bc4a-c48c-47f6-8ce8-6245c56ece0b",
   "metadata": {
    "tags": []
   },
   "outputs": [
    {
     "name": "stdout",
     "output_type": "stream",
     "text": [
      "Number of trees: 300\n"
     ]
    }
   ],
   "source": [
    "from sklearn.ensemble import RandomForestClassifier\n",
    "rf = RandomForestClassifier()\n",
    "\n",
    "\n",
    "hyperparameters = {\n",
    "    'n_estimators': [300],\n",
    "    'max_depth': [None, 10, 20, 30],\n",
    "    'min_samples_split': [2, 5, 10],\n",
    "    'min_samples_leaf': [1, 2, 4],\n",
    "    'max_features': ['auto', 'sqrt']\n",
    "}\n",
    "clf = GridSearchCV(rf, hyperparameters, cv=5)\n",
    "\n",
    "best_rf = clf.fit(X_train,y_train)\n",
    "\n",
    "print('Number of trees:', best_rf.best_estimator_.get_params()['n_estimators'])"
   ]
  },
  {
   "cell_type": "code",
   "execution_count": 5,
   "id": "d01396de-2cef-483e-bb51-60780a150ba5",
   "metadata": {
    "tags": []
   },
   "outputs": [
    {
     "name": "stdout",
     "output_type": "stream",
     "text": [
      "              precision    recall  f1-score   support\n",
      "\n",
      "           0       0.74      0.86      0.79       804\n",
      "           1       0.51      0.50      0.50       557\n",
      "           2       0.43      0.30      0.35       514\n",
      "           3       0.46      0.58      0.51       514\n",
      "           4       0.48      0.46      0.47       314\n",
      "           5       0.83      0.56      0.67       232\n",
      "\n",
      "    accuracy                           0.58      2935\n",
      "   macro avg       0.57      0.54      0.55      2935\n",
      "weighted avg       0.57      0.58      0.57      2935\n",
      "\n"
     ]
    }
   ],
   "source": [
    "y_pred = best_rf.predict(X_val)\n",
    "print(classification_report(y_val, y_pred))"
   ]
  },
  {
   "cell_type": "code",
   "execution_count": null,
   "id": "6ffae5a9-20d8-489a-8398-8ee2d7d8a32a",
   "metadata": {},
   "outputs": [],
   "source": [
    "X_test = pd.read_csv(os.path.join(\"data\", \"test.csv\"))\n",
    "X_test = scaler.transform(preprocess(X_test))\n",
    "test_predictions = best_rf.predict(X_test)\n",
    "\n",
    "submission = {\n",
    "    \"id\" : list(range(len(test_predictions))), \n",
    "    \"price\" : list(test_predictions.astype(float))\n",
    "}\n",
    "\n",
    "submission = pd.DataFrame.from_dict(submission)\n",
    "\n",
    "submission.to_csv(\"bahng_3.csv\", index=False)"
   ]
  }
 ],
 "metadata": {
  "kernelspec": {
   "display_name": "Python 3 (ipykernel)",
   "language": "python",
   "name": "python3"
  },
  "language_info": {
   "codemirror_mode": {
    "name": "ipython",
    "version": 3
   },
   "file_extension": ".py",
   "mimetype": "text/x-python",
   "name": "python",
   "nbconvert_exporter": "python",
   "pygments_lexer": "ipython3",
   "version": "3.10.13"
  }
 },
 "nbformat": 4,
 "nbformat_minor": 5
}
