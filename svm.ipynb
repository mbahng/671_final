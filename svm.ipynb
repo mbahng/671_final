{
 "cells": [
  {
   "cell_type": "code",
   "execution_count": 1,
   "metadata": {},
   "outputs": [
    {
     "name": "stderr",
     "output_type": "stream",
     "text": [
      "[nltk_data] Downloading package averaged_perceptron_tagger to\n",
      "[nltk_data]     /home/muchang/nltk_data...\n",
      "[nltk_data]   Package averaged_perceptron_tagger is already up-to-\n",
      "[nltk_data]       date!\n",
      "[nltk_data] Downloading package punkt to /home/muchang/nltk_data...\n",
      "[nltk_data]   Package punkt is already up-to-date!\n",
      "[nltk_data] Downloading package vader_lexicon to\n",
      "[nltk_data]     /home/muchang/nltk_data...\n",
      "[nltk_data]   Package vader_lexicon is already up-to-date!\n"
     ]
    }
   ],
   "source": [
    "import os\n",
    "import re\n",
    "import ast\n",
    "import numpy as np\n",
    "import pandas as pd\n",
    "from sklearn.model_selection import GridSearchCV,train_test_split\n",
    "from sklearn.metrics import classification_report\n",
    "from sklearn.preprocessing import StandardScaler, RobustScaler, QuantileTransformer\n",
    "from nltk.tokenize import RegexpTokenizer\n",
    "from preprocess import preprocess\n",
    "import matplotlib.pyplot as plt\n",
    "\n",
    "train_data = pd.read_csv(os.path.join(\"data\", \"train.csv\"))\n",
    "test_data = pd.read_csv(os.path.join(\"data\", \"test.csv\"))\n",
    "train_data.dropna(inplace=True)\n",
    "X, y = train_data.drop([\"price\"], axis=1), train_data[\"price\"]\n",
    "y = y.to_numpy().astype(int)\n",
    "\n",
    "X_train, X_val, y_train, y_val = train_test_split(X, y, test_size=0.20, random_state=42)\n",
    "X_test = test_data\n",
    "\n",
    "X_train = preprocess(X_train).to_numpy().astype(float)\n",
    "X_val = preprocess(X_val).to_numpy().astype(float)"
   ]
  },
  {
   "cell_type": "code",
   "execution_count": 2,
   "metadata": {},
   "outputs": [],
   "source": [
    "scaler = RobustScaler()\n",
    "scaler.fit(X_train)\n",
    "X_train = scaler.transform(X_train)\n",
    "X_val = scaler.transform(X_val)"
   ]
  },
  {
   "cell_type": "code",
   "execution_count": 3,
   "metadata": {},
   "outputs": [
    {
     "name": "stdout",
     "output_type": "stream",
     "text": [
      "Best hyperparameters: {'C': 2.0, 'break_ties': False, 'cache_size': 70, 'class_weight': None, 'coef0': 0.0, 'decision_function_shape': 'ovr', 'degree': 3, 'gamma': 'auto', 'kernel': 'rbf', 'max_iter': -1, 'probability': False, 'random_state': None, 'shrinking': True, 'tol': 0.001, 'verbose': False}\n"
     ]
    }
   ],
   "source": [
    "from sklearn.svm import SVC\n",
    "svc = SVC()\n",
    "\n",
    "hyperparameters = {\n",
    "    \"cache_size\" : [70, 80, 90, 100], \n",
    "    \"C\": [1.0, 2.0], \n",
    "    \"gamma\" : [\"auto\"]\n",
    "}\n",
    "clf = GridSearchCV(svc, hyperparameters, cv=5, verbose=0, n_jobs=20)\n",
    "\n",
    "best_svc = clf.fit(X_train,y_train)\n",
    "\n",
    "print('Best hyperparameters:', best_svc.best_estimator_.get_params())"
   ]
  },
  {
   "cell_type": "code",
   "execution_count": 4,
   "metadata": {},
   "outputs": [
    {
     "name": "stdout",
     "output_type": "stream",
     "text": [
      "              precision    recall  f1-score   support\n",
      "\n",
      "           0       0.70      0.84      0.76       804\n",
      "           1       0.43      0.48      0.45       557\n",
      "           2       0.41      0.24      0.30       514\n",
      "           3       0.44      0.52      0.48       514\n",
      "           4       0.45      0.40      0.42       314\n",
      "           5       0.79      0.50      0.61       232\n",
      "\n",
      "    accuracy                           0.54      2935\n",
      "   macro avg       0.54      0.50      0.50      2935\n",
      "weighted avg       0.53      0.54      0.52      2935\n",
      "\n"
     ]
    }
   ],
   "source": [
    "y_pred = best_svc.predict(X_val)\n",
    "print(classification_report(y_val, y_pred))\n",
    "\n"
   ]
  },
  {
   "cell_type": "code",
   "execution_count": null,
   "metadata": {},
   "outputs": [],
   "source": [
    "X_test = pd.read_csv(os.path.join(\"data\", \"test.csv\"))\n",
    "X_test = scaler.transform(preprocess(X_test))\n",
    "test_predictions = best_rf.predict(X_test)\n",
    "\n",
    "submission = {\n",
    "    \"id\" : list(range(len(test_predictions))), \n",
    "    \"price\" : list(test_predictions.astype(float))\n",
    "}\n",
    "\n",
    "submission = pd.DataFrame.from_dict(submission)\n",
    "\n",
    "submission.to_csv(os.path.join(\"submissions/\", \"bahng_rf1.csv\"), index=False)"
   ]
  }
 ],
 "metadata": {
  "kernelspec": {
   "display_name": "ldm",
   "language": "python",
   "name": "python3"
  },
  "language_info": {
   "codemirror_mode": {
    "name": "ipython",
    "version": 3
   },
   "file_extension": ".py",
   "mimetype": "text/x-python",
   "name": "python",
   "nbconvert_exporter": "python",
   "pygments_lexer": "ipython3",
   "version": "3.8.5"
  }
 },
 "nbformat": 4,
 "nbformat_minor": 2
}
