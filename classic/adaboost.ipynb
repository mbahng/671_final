{
 "cells": [
  {
   "cell_type": "code",
   "execution_count": null,
   "metadata": {},
   "outputs": [],
   "source": [
    "import os\n",
    "import re\n",
    "import ast\n",
    "import numpy as np\n",
    "import pandas as pd\n",
    "from sklearn.model_selection import GridSearchCV,train_test_split\n",
    "from sklearn.metrics import classification_report\n",
    "from sklearn.preprocessing import StandardScaler, RobustScaler, QuantileTransformer\n",
    "from nltk.tokenize import RegexpTokenizer\n",
    "from preprocess import preprocess\n",
    "import matplotlib.pyplot as plt\n",
    "import warnings\n",
    "warnings.filterwarnings('ignore')\n",
    "\n",
    "train_data = pd.read_csv(os.path.join(\"data\", \"train.csv\"))\n",
    "test_data = pd.read_csv(os.path.join(\"data\", \"test.csv\"))\n",
    "train_data.dropna(inplace=True)\n",
    "X, y = train_data.drop([\"price\"], axis=1), train_data[\"price\"]\n",
    "y = y.to_numpy().astype(int)\n",
    "\n",
    "X_train, X_val, y_train, y_val = train_test_split(X, y, test_size=0.20, random_state=42)\n",
    "X_test = test_data\n",
    "\n",
    "X_train = preprocess(X_train).to_numpy().astype(float)\n",
    "X_val = preprocess(X_val).to_numpy().astype(float)\n",
    "X_test = preprocess(X_test)\n",
    "\n",
    "# scale\n",
    "scaler =  RobustScaler()\n",
    "scaler.fit(X_train)\n",
    "X_train = scaler.transform(X_train)\n",
    "X_val = scaler.transform(X_val)\n",
    "\n",
    "X_train.shape"
   ]
  },
  {
   "cell_type": "code",
   "execution_count": null,
   "metadata": {},
   "outputs": [],
   "source": [
    "from sklearn.ensemble import AdaBoostClassifier\n",
    "from sklearn.tree import DecisionTreeClassifier\n",
    "from sklearn.model_selection import cross_val_score\n",
    "from sklearn.model_selection import GridSearchCV\n",
    "\n",
    "param_grid = {\n",
    "    'n_estimators' : [10, 30, 50, 70],\n",
    "    'learning_rate' : [0.01, 0.03, 0.1, 0.3]\n",
    "}\n",
    "\n",
    "# Adaboost with DecisionTree as base estimator\n",
    "ada_clf = AdaBoostClassifier(\n",
    "    estimator=DecisionTreeClassifier()\n",
    ")\n",
    "\n",
    "gscv = GridSearchCV(ada_clf, param_grid, cv=5, scoring=\"f1\")\n",
    "gscv.fit(X_train, y_train)\n",
    "ada_clf = gscv.best_estimator_\n",
    "# ada_test_accuracy = ada_clf.score(X_val, y_val)\n",
    "# print(\"Adaboost Test Accuracy:\", ada_test_accuracy)"
   ]
  }
 ],
 "metadata": {
  "language_info": {
   "name": "python"
  }
 },
 "nbformat": 4,
 "nbformat_minor": 2
}
