{
 "cells": [
  {
   "cell_type": "code",
   "execution_count": 1,
   "id": "aa5e1b26",
   "metadata": {
    "tags": []
   },
   "outputs": [],
   "source": [
    "import os\n",
    "import re\n",
    "import ast\n",
    "import numpy as np\n",
    "import pandas as pd\n",
    "from sklearn.model_selection import train_test_split\n",
    "from sklearn.metrics import classification_report\n",
    "from sklearn.model_selection import GridSearchCV\n",
    "from sklearn.preprocessing import MinMaxScaler, StandardScaler\n",
    "from preprocess import preprocess\n",
    "import matplotlib.pyplot as plt\n",
    "\n",
    "train_data = pd.read_csv(os.path.join(\"data\", \"train.csv\"))\n",
    "test_data = pd.read_csv(os.path.join(\"data\", \"test.csv\"))\n",
    "train_data.dropna(inplace=True)\n",
    "X, y = train_data.drop([\"price\"], axis=1), train_data[\"price\"]\n",
    "y = y.to_numpy().astype(int)\n",
    "\n",
    "X_train, X_val, y_train, y_val = train_test_split(X, y, test_size=0.20, random_state=42)\n",
    "X_test = test_data"
   ]
  },
  {
   "cell_type": "code",
   "execution_count": 2,
   "id": "3a826500-9516-44b3-8b2b-f7ce22159e33",
   "metadata": {
    "tags": []
   },
   "outputs": [],
   "source": [
    "X_train = preprocess(X_train).to_numpy().astype(float)\n",
    "X_val = preprocess(X_val).to_numpy().astype(float)\n",
    "\n",
    "scaler = StandardScaler()\n",
    "scaler.fit(X_train)\n",
    "X_train = scaler.transform(X_train)\n",
    "X_val = scaler.transform(X_val)"
   ]
  },
  {
   "cell_type": "code",
   "execution_count": 4,
   "id": "148eadca-7aa3-4e75-aeb4-409023705791",
   "metadata": {
    "tags": []
   },
   "outputs": [
    {
     "name": "stdout",
     "output_type": "stream",
     "text": [
      "Number of trees: 150\n"
     ]
    }
   ],
   "source": [
    "from sklearn.ensemble import GradientBoostingClassifier\n",
    "\n",
    "gbm = GradientBoostingClassifier()\n",
    "\n",
    "n_estimators = list([150])\n",
    "hyperparameters = dict(n_estimators = n_estimators)\n",
    "clf = GridSearchCV(gbm, hyperparameters, cv=5)\n",
    "\n",
    "best_gbm = clf.fit(X_train,y_train)\n",
    "\n",
    "print('Number of trees:', best_gbm.best_estimator_.get_params()['n_estimators'])"
   ]
  },
  {
   "cell_type": "code",
   "execution_count": 5,
   "id": "9284a8cc-6f7a-4bb6-8576-d1426c73ab72",
   "metadata": {
    "tags": []
   },
   "outputs": [
    {
     "name": "stdout",
     "output_type": "stream",
     "text": [
      "              precision    recall  f1-score   support\n",
      "\n",
      "           0       0.72      0.84      0.78       804\n",
      "           1       0.45      0.49      0.47       557\n",
      "           2       0.39      0.22      0.28       514\n",
      "           3       0.43      0.51      0.47       514\n",
      "           4       0.44      0.44      0.44       314\n",
      "           5       0.76      0.57      0.66       232\n",
      "\n",
      "    accuracy                           0.54      2935\n",
      "   macro avg       0.53      0.51      0.51      2935\n",
      "weighted avg       0.53      0.54      0.53      2935\n",
      "\n"
     ]
    }
   ],
   "source": [
    "y_pred = best_gbm.predict(X_val)\n",
    "print(classification_report(y_val, y_pred))"
   ]
  },
  {
   "cell_type": "code",
   "execution_count": 11,
   "metadata": {},
   "outputs": [],
   "source": [
    "X_test = pd.read_csv(os.path.join(\"data\", \"test.csv\"))\n",
    "X_test = scaler.transform(preprocess(X_test))\n",
    "test_predictions = best_gbm.predict(X_test)\n",
    "\n",
    "submission = {\n",
    "    \"id\" : list(range(len(test_predictions))), \n",
    "    \"price\" : list(test_predictions.astype(float))\n",
    "}\n",
    "\n",
    "submission = pd.DataFrame.from_dict(submission)\n",
    "\n",
    "submission.to_csv(\"bahng_2.csv\", index=False)"
   ]
  }
 ],
 "metadata": {
  "kernelspec": {
   "display_name": "Python 3 (ipykernel)",
   "language": "python",
   "name": "python3"
  },
  "language_info": {
   "codemirror_mode": {
    "name": "ipython",
    "version": 3
   },
   "file_extension": ".py",
   "mimetype": "text/x-python",
   "name": "python",
   "nbconvert_exporter": "python",
   "pygments_lexer": "ipython3",
   "version": "3.10.13"
  }
 },
 "nbformat": 4,
 "nbformat_minor": 5
}
